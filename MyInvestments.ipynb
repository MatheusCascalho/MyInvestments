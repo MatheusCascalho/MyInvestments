{
 "cells": [
  {
   "cell_type": "code",
   "execution_count": 1,
   "id": "7d94a26d-9de4-4213-879f-1543217f46e1",
   "metadata": {},
   "outputs": [],
   "source": [
    "import os, sys\n",
    "sys.path.append('../')\n",
    "\n",
    "import pandas as pd\n",
    "import requests\n",
    "import matplotlib.pyplot as plt\n",
    "\n",
    "# Operations \n",
    "from datetime import datetime\n",
    "from modules.crud_operations import fill_operations_from_user"
   ]
  },
  {
   "cell_type": "code",
   "execution_count": 2,
   "id": "6ddfb2d4-ed05-41ab-bbf1-23fe07575ec4",
   "metadata": {},
   "outputs": [],
   "source": [
    "host = \"localhost\""
   ]
  },
  {
   "cell_type": "markdown",
   "id": "166a6bc4-66af-41f5-be6c-c28b2c4a9803",
   "metadata": {
    "tags": []
   },
   "source": [
    "# MyInvestments"
   ]
  },
  {
   "cell_type": "markdown",
   "id": "4056cafd-2e6d-41e0-8ee1-8be578992a3e",
   "metadata": {
    "tags": []
   },
   "source": [
    "## Estado Atual da carteira"
   ]
  },
  {
   "cell_type": "markdown",
   "id": "797f3bfb-0a3b-4ea0-a775-f5ec5b07eda9",
   "metadata": {
    "tags": []
   },
   "source": [
    "### Investimentos em renda variável"
   ]
  },
  {
   "cell_type": "code",
   "execution_count": 3,
   "id": "55d72253-0044-4d54-803c-60da475bea26",
   "metadata": {},
   "outputs": [
    {
     "data": {
      "text/html": [
       "<div>\n",
       "<style scoped>\n",
       "    .dataframe tbody tr th:only-of-type {\n",
       "        vertical-align: middle;\n",
       "    }\n",
       "\n",
       "    .dataframe tbody tr th {\n",
       "        vertical-align: top;\n",
       "    }\n",
       "\n",
       "    .dataframe thead th {\n",
       "        text-align: right;\n",
       "    }\n",
       "</style>\n",
       "<table border=\"1\" class=\"dataframe\">\n",
       "  <thead>\n",
       "    <tr style=\"text-align: right;\">\n",
       "      <th></th>\n",
       "      <th>acquisition</th>\n",
       "      <th>current_value</th>\n",
       "      <th>current_value_by_unit</th>\n",
       "      <th>id</th>\n",
       "      <th>profit</th>\n",
       "      <th>purchase_price</th>\n",
       "      <th>purchase_price_by_unit</th>\n",
       "      <th>sector</th>\n",
       "      <th>title</th>\n",
       "      <th>type</th>\n",
       "      <th>units</th>\n",
       "    </tr>\n",
       "  </thead>\n",
       "  <tbody>\n",
       "    <tr>\n",
       "      <th>0</th>\n",
       "      <td>01/10/2021</td>\n",
       "      <td>300</td>\n",
       "      <td>100.89</td>\n",
       "      <td>1</td>\n",
       "      <td>0.3</td>\n",
       "      <td>240.8</td>\n",
       "      <td>80.9</td>\n",
       "      <td>mining</td>\n",
       "      <td>VALE3</td>\n",
       "      <td>stock</td>\n",
       "      <td>3</td>\n",
       "    </tr>\n",
       "  </tbody>\n",
       "</table>\n",
       "</div>"
      ],
      "text/plain": [
       "  acquisition  current_value  current_value_by_unit  id  profit  \\\n",
       "0  01/10/2021            300                 100.89   1     0.3   \n",
       "\n",
       "   purchase_price  purchase_price_by_unit  sector  title   type  units  \n",
       "0           240.8                    80.9  mining  VALE3  stock      3  "
      ]
     },
     "execution_count": 3,
     "metadata": {},
     "output_type": "execute_result"
    }
   ],
   "source": [
    "path = \"dummy_report\"\n",
    "url = f\"http://{host}:5000/{path}\"\n",
    "\n",
    "response = requests.get(url)\n",
    "data = response.json()\n",
    "pd.DataFrame(data['variable_rents'])"
   ]
  },
  {
   "cell_type": "markdown",
   "id": "e6b8a63e-1c0b-48a0-918f-d28c00e98f08",
   "metadata": {},
   "source": [
    "### Investimento em renda fixa"
   ]
  },
  {
   "cell_type": "code",
   "execution_count": 4,
   "id": "208c2d0b-1177-4ef7-b1f7-a614755362c4",
   "metadata": {},
   "outputs": [
    {
     "data": {
      "text/html": [
       "<div>\n",
       "<style scoped>\n",
       "    .dataframe tbody tr th:only-of-type {\n",
       "        vertical-align: middle;\n",
       "    }\n",
       "\n",
       "    .dataframe tbody tr th {\n",
       "        vertical-align: top;\n",
       "    }\n",
       "\n",
       "    .dataframe thead th {\n",
       "        text-align: right;\n",
       "    }\n",
       "</style>\n",
       "<table border=\"1\" class=\"dataframe\">\n",
       "  <thead>\n",
       "    <tr style=\"text-align: right;\">\n",
       "      <th></th>\n",
       "      <th>acquisition</th>\n",
       "      <th>base_rent</th>\n",
       "      <th>current_tax</th>\n",
       "      <th>current_value</th>\n",
       "      <th>due_date</th>\n",
       "      <th>extra_rent</th>\n",
       "      <th>id</th>\n",
       "      <th>liquidity</th>\n",
       "      <th>purchase_price</th>\n",
       "      <th>title</th>\n",
       "    </tr>\n",
       "  </thead>\n",
       "  <tbody>\n",
       "    <tr>\n",
       "      <th>0</th>\n",
       "      <td>01/05/2020</td>\n",
       "      <td>selic</td>\n",
       "      <td>0.25</td>\n",
       "      <td>101.5</td>\n",
       "      <td>01/05/2025</td>\n",
       "      <td>0</td>\n",
       "      <td>1</td>\n",
       "      <td>d_plus_1</td>\n",
       "      <td>100.5</td>\n",
       "      <td>selic 2025</td>\n",
       "    </tr>\n",
       "  </tbody>\n",
       "</table>\n",
       "</div>"
      ],
      "text/plain": [
       "  acquisition base_rent  current_tax  current_value    due_date  extra_rent  \\\n",
       "0  01/05/2020     selic         0.25          101.5  01/05/2025           0   \n",
       "\n",
       "   id liquidity  purchase_price       title  \n",
       "0   1  d_plus_1           100.5  selic 2025  "
      ]
     },
     "execution_count": 4,
     "metadata": {},
     "output_type": "execute_result"
    }
   ],
   "source": [
    "pd.DataFrame(data['fixed_rents'])"
   ]
  },
  {
   "cell_type": "markdown",
   "id": "dc4a3fd2-284e-4ee3-9837-ff3d0cecacea",
   "metadata": {},
   "source": [
    "### Resumo"
   ]
  },
  {
   "cell_type": "code",
   "execution_count": 5,
   "id": "666a34f7-97f2-41ab-b16a-098930697554",
   "metadata": {},
   "outputs": [
    {
     "data": {
      "text/plain": [
       "applied_value     504.50\n",
       "gross_profit       10.50\n",
       "liquidy_profit     10.25\n",
       "taxes               0.25\n",
       "dtype: float64"
      ]
     },
     "execution_count": 5,
     "metadata": {},
     "output_type": "execute_result"
    }
   ],
   "source": [
    "pd.Series(data['summary'])"
   ]
  },
  {
   "cell_type": "markdown",
   "id": "2b870a4f-853e-4846-b02f-b7aa0e2e5b71",
   "metadata": {},
   "source": [
    "### Histórico"
   ]
  },
  {
   "cell_type": "code",
   "execution_count": 6,
   "id": "82c9f093-73d8-4c43-98fd-bf57b511aa8a",
   "metadata": {},
   "outputs": [
    {
     "data": {
      "image/png": "[encoded data removed]",
      "text/plain": [
       "<Figure size 432x288 with 1 Axes>"
      ]
     },
     "metadata": {
      "needs_background": "light"
     },
     "output_type": "display_data"
    }
   ],
   "source": [
    "# plt.figure(figsize=(15,5))\n",
    "\n",
    "history = pd.DataFrame(data['history'])\n",
    "plt.plot(history.balance, label=\"saldo aplicado\", linewidth=3, marker=\"o\")\n",
    "# plt.plot(history.target)\n",
    "plt.plot(history.balance_with_profit, label=\"Saldo real\", linewidth=3, marker=\"*\")\n",
    "plt.bar(history.index-0.2, history.credit, width=0.4, color='green', label=\"credit\")\n",
    "plt.bar(history.index+0.2, history.debit, width=0.4, color='red', label=\"debit\")\n",
    "plt.xticks(history.index, history.date)\n",
    "plt.title(\"Histórico\")\n",
    "plt.xlabel(\"Mês\")\n",
    "plt.ylabel(\"Valor (R$)\")\n",
    "plt.legend();"
   ]
  },
  {
   "cell_type": "code",
   "execution_count": 7,
   "id": "a2d2b54b-1e53-4816-b345-d5532b0d67f7",
   "metadata": {},
   "outputs": [],
   "source": [
    "history = pd.DataFrame(data['history'])\n",
    "# history.set_index(\"date\")"
   ]
  },
  {
   "cell_type": "markdown",
   "id": "08e98151-a0c2-454e-9e00-b96eddc8557b",
   "metadata": {
    "tags": []
   },
   "source": [
    "### Distribuição por setor"
   ]
  },
  {
   "cell_type": "code",
   "execution_count": 8,
   "id": "321a5999-94c1-403f-be91-53b9c6528eaa",
   "metadata": {},
   "outputs": [
    {
     "data": {
      "image/png": "[encoded data removed]",
      "text/plain": [
       "<Figure size 432x288 with 1 Axes>"
      ]
     },
     "metadata": {},
     "output_type": "display_data"
    }
   ],
   "source": [
    "labels = data['distribution_by_sector'].keys()\n",
    "sizes = data['distribution_by_sector'].values()\n",
    "explode = (0, 0.1, 0)\n",
    "\n",
    "fig, ax = plt.subplots()\n",
    "ax.pie(sizes, explode=explode, labels=labels, autopct=\"%1.1f%%\", shadow=True, startangle=90)\n",
    "plt.show()\n",
    "\n",
    "# pd.Series(data['distribution_by_sector'])"
   ]
  },
  {
   "cell_type": "markdown",
   "id": "c1aec7fc-c10a-4bf6-bfa9-252b724ceb64",
   "metadata": {},
   "source": [
    "### Distribuição por título"
   ]
  },
  {
   "cell_type": "code",
   "execution_count": 9,
   "id": "b375c5f9-6e32-47d0-a864-10d7bd4ba2fc",
   "metadata": {},
   "outputs": [
    {
     "data": {
      "image/png": "[encoded data removed]",
      "text/plain": [
       "<Figure size 432x288 with 1 Axes>"
      ]
     },
     "metadata": {},
     "output_type": "display_data"
    }
   ],
   "source": [
    "# pd.Series(data['distribution_by_title'])\n",
    "\n",
    "key = \"distribution_by_title\"\n",
    "labels = data[key].keys()\n",
    "sizes = data[key].values()\n",
    "explode = (0, 0.1, 0)\n",
    "\n",
    "fig, ax = plt.subplots()\n",
    "ax.pie(sizes, explode=explode, labels=labels, autopct=\"%1.1f%%\", shadow=True, startangle=90)\n",
    "plt.show()\n",
    "\n",
    "# pd.Series(data['distribution_by_sector'])"
   ]
  },
  {
   "cell_type": "markdown",
   "id": "f5a2c8ed-8d75-439e-af8b-1d31b5c27432",
   "metadata": {},
   "source": [
    "### Distribuição por natureza"
   ]
  },
  {
   "cell_type": "code",
   "execution_count": 10,
   "id": "f12a42ee-2cad-409d-a7a8-ac3a5aa752d5",
   "metadata": {},
   "outputs": [
    {
     "data": {
      "image/png": "[encoded data removed]",
      "text/plain": [
       "<Figure size 432x288 with 1 Axes>"
      ]
     },
     "metadata": {},
     "output_type": "display_data"
    }
   ],
   "source": [
    "# pd.Series(data['distribution_by_nature'])\n",
    "\n",
    "key = \"distribution_by_nature\"\n",
    "labels = data[key].keys()\n",
    "sizes = data[key].values()\n",
    "explode = (0, 0.1)\n",
    "\n",
    "fig, ax = plt.subplots()\n",
    "ax.pie(sizes, explode=explode, labels=labels, autopct=\"%1.1f%%\", shadow=True, startangle=90)\n",
    "plt.show()"
   ]
  },
  {
   "cell_type": "markdown",
   "id": "b213cb01-c311-43cb-9be3-fd1cf0972b4a",
   "metadata": {},
   "source": [
    "### Evolução por setor"
   ]
  },
  {
   "cell_type": "code",
   "execution_count": 11,
   "id": "a1777672-aa8a-4a3d-b5fa-99f4ea48d0ae",
   "metadata": {},
   "outputs": [
    {
     "name": "stdout",
     "output_type": "stream",
     "text": [
      "BBAS3\n"
     ]
    },
    {
     "data": {
      "text/html": [
       "<div>\n",
       "<style scoped>\n",
       "    .dataframe tbody tr th:only-of-type {\n",
       "        vertical-align: middle;\n",
       "    }\n",
       "\n",
       "    .dataframe tbody tr th {\n",
       "        vertical-align: top;\n",
       "    }\n",
       "\n",
       "    .dataframe thead th {\n",
       "        text-align: right;\n",
       "    }\n",
       "</style>\n",
       "<table border=\"1\" class=\"dataframe\">\n",
       "  <thead>\n",
       "    <tr style=\"text-align: right;\">\n",
       "      <th></th>\n",
       "      <th>date</th>\n",
       "      <th>value</th>\n",
       "    </tr>\n",
       "  </thead>\n",
       "  <tbody>\n",
       "    <tr>\n",
       "      <th>0</th>\n",
       "      <td>05/2021</td>\n",
       "      <td>100.5</td>\n",
       "    </tr>\n",
       "    <tr>\n",
       "      <th>1</th>\n",
       "      <td>06/2021</td>\n",
       "      <td>100.5</td>\n",
       "    </tr>\n",
       "    <tr>\n",
       "      <th>2</th>\n",
       "      <td>06/2021</td>\n",
       "      <td>100.5</td>\n",
       "    </tr>\n",
       "  </tbody>\n",
       "</table>\n",
       "</div>"
      ],
      "text/plain": [
       "      date  value\n",
       "0  05/2021  100.5\n",
       "1  06/2021  100.5\n",
       "2  06/2021  100.5"
      ]
     },
     "execution_count": 11,
     "metadata": {},
     "output_type": "execute_result"
    }
   ],
   "source": [
    "print(data['evolution_by_sector'][0]['title'])\n",
    "pd.DataFrame(data['evolution_by_sector'][0]['data'])"
   ]
  },
  {
   "cell_type": "markdown",
   "id": "5ce6f5d4-9ae6-4548-b69b-43f10e3e1fa7",
   "metadata": {
    "tags": []
   },
   "source": [
    "## Operações sobre a carteira"
   ]
  },
  {
   "cell_type": "code",
   "execution_count": 13,
   "id": "6491727f-7934-4694-84ed-354d0f8c7dbd",
   "metadata": {},
   "outputs": [
    {
     "name": "stdout",
     "output_type": "stream",
     "text": [
      "Cadastro de operações!\n",
      "\n"
     ]
    },
    {
     "name": "stdin",
     "output_type": "stream",
     "text": [
      "\t Valor: R$ 50\n",
      "\t Tipo da operação dict_keys(['c', 'v', 't']):  c\n",
      "\t Título do investimento:  bbas3\n",
      "\t Natureza do investimento dict_keys(['f', 'v']):  v\n",
      "\t Descrição (Opcional):  \n",
      "\t\t Deseja adicionar uma nova operação? [S/N]:  n\n"
     ]
    },
    {
     "name": "stdout",
     "output_type": "stream",
     "text": [
      "\t==============================\n"
     ]
    }
   ],
   "source": [
    "operacoes = fill_operations_from_user()"
   ]
  },
  {
   "cell_type": "code",
   "execution_count": 14,
   "id": "7305fad1-6d36-4efc-a43e-558c6ab75ab2",
   "metadata": {},
   "outputs": [
    {
     "data": {
      "text/plain": [
       "[InvestmentOperation(id=None, date=datetime.datetime(2021, 10, 4, 19, 46, 30, 396446), type=<ExchangeOperation.BUY: 'buy'>, value=50.0, coin=<Coin.BRL: 'brl'>, title='bbas3', investment_nature=<InvestmentNature.VARIABLE: 'variable'>, description='')]"
      ]
     },
     "execution_count": 14,
     "metadata": {},
     "output_type": "execute_result"
    }
   ],
   "source": [
    "operacoes"
   ]
  },
  {
   "cell_type": "code",
   "execution_count": null,
   "id": "c7c9bbe4-6ed2-4f10-b135-cce352ca4627",
   "metadata": {},
   "outputs": [],
   "source": []
  }
 ],
 "metadata": {
  "kernelspec": {
   "display_name": "Python 3",
   "language": "python",
   "name": "python3"
  },
  "language_info": {
   "codemirror_mode": {
    "name": "ipython",
    "version": 3
   },
   "file_extension": ".py",
   "mimetype": "text/x-python",
   "name": "python",
   "nbconvert_exporter": "python",
   "pygments_lexer": "ipython3",
   "version": "3.8.10"
  }
 },
 "nbformat": 4,
 "nbformat_minor": 5
}
